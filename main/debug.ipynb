{
 "cells": [
  {
   "cell_type": "code",
   "execution_count": 6,
   "metadata": {},
   "outputs": [
    {
     "name": "stdout",
     "output_type": "stream",
     "text": [
      "Collecting data-manipulation\n",
      "\u001b[?25l  Downloading https://files.pythonhosted.org/packages/72/d3/9e3f4b05265ed49486117a2f54398cd87b32c1b0b0b7700289b9ec789486/data_manipulation-0.48.tar.gz (47kB)\n",
      "\u001b[K    100% |████████████████████████████████| 51kB 4.8MB/s ta 0:00:011\n",
      "\u001b[?25h    Complete output from command python setup.py egg_info:\n",
      "    Traceback (most recent call last):\n",
      "      File \"<string>\", line 1, in <module>\n",
      "      File \"/tmp/pip-install-94ps2o7u/data-manipulation/setup.py\", line 3, in <module>\n",
      "        import versioneer\n",
      "      File \"/tmp/pip-install-94ps2o7u/data-manipulation/versioneer.py\", line 373\n",
      "        LONG_VERSION_PY: Dict[str, str] = {}\n",
      "                       ^\n",
      "    SyntaxError: invalid syntax\n",
      "    \n",
      "    ----------------------------------------\n",
      "\u001b[31mCommand \"python setup.py egg_info\" failed with error code 1 in /tmp/pip-install-94ps2o7u/data-manipulation/\u001b[0m\n",
      "\u001b[33mYou are using pip version 10.0.1, however version 20.3.4 is available.\n",
      "You should consider upgrading via the 'pip install --upgrade pip' command.\u001b[0m\n"
     ]
    }
   ],
   "source": [
    "!pip install data-manipulation"
   ]
  },
  {
   "cell_type": "code",
   "execution_count": 20,
   "metadata": {},
   "outputs": [],
   "source": [
    "import torch\n",
    "\n",
    "a = torch.load('../store/main_cl_2/train_nIFalse.pth', map_location=torch.device(\"cpu\"))"
   ]
  },
  {
   "cell_type": "code",
   "execution_count": 19,
   "metadata": {},
   "outputs": [
    {
     "data": {
      "text/plain": [
       "{'FileFound': None,\n",
       " 'args': Namespace(acc_log=5000, acc_n=1024, augment=False, batch=256, batch_replay=None, channels=16, classify='beforeZ', convE_ltag='e100', convE_stag='none', conv_bn='yes', conv_nl='relu', conv_type='standard', cuda=True, d_dir='./store/datasets', depth=5, dg_gates=True, dg_prop=0.7, dg_type='class', distill=True, eval_gen=False, eval_tag='none', ewc=False, experiment='CIFAR100', fc_bn='no', fc_drop=0.0, fc_lay=3, fc_nl='relu', fc_units=2000, feedback=True, freeze_convE=True, full_ltag='none', full_stag='none', g_depth=5, g_fc_lay=3, g_fc_uni=2000, g_h_dim=2000, g_iters=5000, g_z_dim=100, get_stamp=False, gp=False, h_dim=2000, hidden=True, init_bias='standard', init_weight='standard', internal_replay_off=False, iters=5000, log_per_task=True, loss_log=5000, lr=0.0001, lr_gen=0.0001, m_dir='./store/models', n_blocks=2, n_modes=1, n_seeds=10, no_samples=False, normalize=True, online=False, p_dir='./store/plots', pdf=True, per_class=True, pl=1.0, pre_convE=True, prior='GMM', r_dir='./store/results', recon_loss='MSE', reinit=False, replay='generative', rl=4, sample_log=5000, sample_n=64, save=True, scenario='class', seed=12, si=False, tasks=10, temp=2.0, train=True, visdom=True, xdg=False, xdg_prop=0, z_dim=100),\n",
       " 'classes_per_task': 10,\n",
       " 'no_samples': True,\n",
       " 'param_stamp': 'CIFAR100-N10-class--VAE=C3-5x16-bnH_F-1024x2000x2000_z100-GMM100pc_c100_cg0.7--i5000-lr0.0001-b256-pCvE-e100-fCvE--Hgen-Di2.0--H_MSE-s12',\n",
       " 'precision': None,\n",
       " 'progress_dict': {'all_tasks': [[], [], [], [], [], [], [], [], [], []],\n",
       "  'average': [],\n",
       "  'x_iteration': [],\n",
       "  'x_task': []},\n",
       " 'recall': None,\n",
       " 'train_gen': False,\n",
       " 'verbose': True}"
      ]
     },
     "execution_count": 19,
     "metadata": {},
     "output_type": "execute_result"
    }
   ],
   "source": [
    "a"
   ]
  }
 ],
 "metadata": {
  "kernelspec": {
   "display_name": "brain",
   "language": "python",
   "name": "python3"
  },
  "language_info": {
   "codemirror_mode": {
    "name": "ipython",
    "version": 3
   },
   "file_extension": ".py",
   "mimetype": "text/x-python",
   "name": "python",
   "nbconvert_exporter": "python",
   "pygments_lexer": "ipython3",
   "version": "3.5.6"
  }
 },
 "nbformat": 4,
 "nbformat_minor": 2
}
